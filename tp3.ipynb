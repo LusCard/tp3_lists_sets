{
 "cells": [
  {
   "cell_type": "markdown",
   "id": "498731c6",
   "metadata": {},
   "source": [
    "# Trabajo Practico n3 - Trabajando con Lists y Sets.\n",
    "## Criterios de evaluación.\n",
    "\n",
    "* Se deben utilizar nombres de variables descriptivos y claros (Utilizar la nomeclatura correspondiente para los nombres de variables).\n",
    "* Comentarios claros y concisos que expliquen el propósito de cada sección del código.\n",
    "* Utilizar mensajes de commit **descriptivos**. (Puedes utilizar la extension CONVENTIONAL COMMIT de VS-CODE). \n",
    "* Entrega en tiempo y forma.\n",
    "* Todo el código desarrollado debe ser subido a un repositorio en GitHub (el nombre del repositorio de seguir la siguiente estructura: tp3_tlp3_nombre_apellido).\n",
    "* Para resolver las actividades se debe insertar casillas de codigo entre cada actividad del cuaderno de Jupyter\n",
    "* El repositorio de GitHub debe incluir un archivo README.md con las instrucciones necesarias para la correcta ejecución del código.\n",
    "\n",
    "### ¡Importante!\n",
    "**El incumplimiento de los criterios de evaluación restará puntos en la nota final del práctico!**"
   ]
  },
  {
   "cell_type": "markdown",
   "id": "b361a7b6",
   "metadata": {},
   "source": [
    "### Actividad 1: \n",
    "Suma de todos los elementos de una lista, utilizando bucles repetitivos (for, while)."
   ]
  },
  {
   "cell_type": "code",
   "execution_count": 3,
   "id": "26009294",
   "metadata": {},
   "outputs": [
    {
     "name": "stdout",
     "output_type": "stream",
     "text": [
      "204\n"
     ]
    }
   ],
   "source": [
    "\n",
    "# todo:\n",
    "\n",
    "numbers = [14, 23, 34, 48, 85]\n",
    "res = 0\n",
    "for num in numbers:\n",
    "    res += num\n",
    "print(res)\n"
   ]
  },
  {
   "cell_type": "markdown",
   "id": "cb024232",
   "metadata": {},
   "source": [
    "En cada iteración el valor de \"num\" se suma a la variable \"res\" usando +="
   ]
  },
  {
   "cell_type": "markdown",
   "id": "0c239195",
   "metadata": {},
   "source": [
    "### Actividad 2: \n",
    "Encontrar el número más grande en una lista, utilizando bucles repetitivos (for, while)."
   ]
  },
  {
   "cell_type": "code",
   "execution_count": 6,
   "id": "3611d25a",
   "metadata": {},
   "outputs": [
    {
     "name": "stdout",
     "output_type": "stream",
     "text": [
      "[12, 58, 89, 79, 36]\n",
      "89\n"
     ]
    }
   ],
   "source": [
    "\n",
    "# todo:\n",
    "\n",
    "from random import randint\n",
    "random_numbers =[randint(1, 100) for i in range(5)]\n",
    "\n",
    "max_num = random_numbers[0]\n",
    "for num in random_numbers:\n",
    "    if num > max_num:\n",
    "        max_num = num\n",
    "print(random_numbers)\n",
    "print(max_num)"
   ]
  },
  {
   "cell_type": "markdown",
   "id": "86f5281c",
   "metadata": {},
   "source": [
    "Se recorre cada elemento de la lista, si el número actual es mayor que el valor almacenado en max_num se actualiza max_num con el nuevo valor"
   ]
  },
  {
   "cell_type": "markdown",
   "id": "70a24b97",
   "metadata": {},
   "source": [
    "### Actividad 3:\n",
    "Contar cuántas veces aparece un número específico. Utiliza estructuras repetitivas para la resolucion de este ejercicio. "
   ]
  },
  {
   "cell_type": "code",
   "execution_count": 16,
   "id": "a9c8ebc7",
   "metadata": {},
   "outputs": [
    {
     "name": "stdout",
     "output_type": "stream",
     "text": [
      "El numero 51 se repite 2 veces\n",
      "El numero 134 se repite 2 veces\n"
     ]
    }
   ],
   "source": [
    "\n",
    "# todo:\n",
    "\n",
    "lists = [randint(1, 200) for i in range(20)]\n",
    "count_reps = {}\n",
    "for i in lists:\n",
    "    if i in count_reps:\n",
    "        count_reps[i] += 1\n",
    "    else:\n",
    "        count_reps[i] = 1\n",
    "\n",
    "for num, count in count_reps.items():\n",
    "    if count > 1:\n",
    "        \n",
    "        print(f\"El numero {num} se repite {count} veces\")"
   ]
  },
  {
   "cell_type": "markdown",
   "id": "fd6104a9",
   "metadata": {},
   "source": [
    "Uso \"count_reps\" como un objeto (num:count) para almacenar cada numero y uso el bucle for para recorrer la lista y si el numero ya fue guardado se le incrementa el valor contador."
   ]
  },
  {
   "cell_type": "markdown",
   "id": "b8dac397",
   "metadata": {},
   "source": [
    "### Actividad 4: \n",
    "Invertir una lista sin usar reverse() ni [::-1]"
   ]
  },
  {
   "cell_type": "code",
   "execution_count": 19,
   "id": "d04fd492",
   "metadata": {},
   "outputs": [
    {
     "name": "stdout",
     "output_type": "stream",
     "text": [
      "[4, 34, 6, 4, 12, 12, 10, 17]\n",
      "[17, 10, 12, 12, 4, 6, 34, 4]\n"
     ]
    }
   ],
   "source": [
    "\n",
    "# todo:\n",
    "\n",
    "lists_two = [randint(1, 50) for i in range(8)]\n",
    "inverted = [] \n",
    "for i in range(len(lists_two)-1,-1,-1):\n",
    "    inverted.append(lists_two[i])\n",
    "print(lists_two)\n",
    "print(inverted)"
   ]
  },
  {
   "cell_type": "markdown",
   "id": "0b50d4ca",
   "metadata": {},
   "source": [
    "Empiezo el recorrido por el indice final len(original_list) - 1: El índice del último elemento, el siguiente \"-1\" indica el limite y se detiene en 0, \"-1\" indica paso invertido. Luego va agregando cada elemento correspondiente con \"append\""
   ]
  },
  {
   "cell_type": "markdown",
   "id": "8889d0f2",
   "metadata": {},
   "source": [
    "### Actividad 5:\n",
    "Sumar los elementos de dos listas posición por posición, utilizando solo bucles repetititivos (for,while)."
   ]
  },
  {
   "cell_type": "code",
   "execution_count": 20,
   "id": "bc0ec844",
   "metadata": {},
   "outputs": [
    {
     "name": "stdout",
     "output_type": "stream",
     "text": [
      "[3, 7, 11, 16, 18]\n"
     ]
    }
   ],
   "source": [
    "\n",
    "# todo:\n",
    "\n",
    "lists_one = [ 2,4,6,7,8 ]\n",
    "lists_two = [ 1,3,5,9,10 ]\n",
    "\n",
    "lists_three = []\n",
    "for i in range(len(lists_one)):\n",
    "    lists_three.append(lists_one[i] + lists_two[i])\n",
    "print(lists_three)"
   ]
  },
  {
   "cell_type": "markdown",
   "id": "ae8a4d7c",
   "metadata": {},
   "source": [
    "A \"list_three\" agrego el resultado de los elementos de las listas uno y dos que se están iterando juntos."
   ]
  },
  {
   "cell_type": "markdown",
   "id": "8ce33e6b",
   "metadata": {},
   "source": [
    "### Actividad 6:\n",
    "\n",
    "Escribir un programa que almacene el abecedario en una lista, elimine de la lista las letras que ocupen posiciones múltiplos de 3, y muestre por pantalla la lista resultante."
   ]
  },
  {
   "cell_type": "code",
   "execution_count": null,
   "id": "b07326e2",
   "metadata": {},
   "outputs": [],
   "source": [
    "\n",
    "# todo:\n"
   ]
  },
  {
   "cell_type": "markdown",
   "id": "5bfeb4b5",
   "metadata": {},
   "source": [
    "### Actividad 7:\n",
    "\n",
    "Escribir un programa que pida al usuario una palabra y muestre por pantalla si es un palíndromo (una palabra que se escribe de la misma forma al derecho y al reves)."
   ]
  },
  {
   "cell_type": "code",
   "execution_count": 22,
   "id": "2365afcc",
   "metadata": {},
   "outputs": [],
   "source": [
    "\n",
    "# todo:\n",
    "def check_palindrome():\n",
    "    word = input(\"Enter a word: \")\n",
    "    if word == word[::-1]:\n",
    "        print(f\"{word} is a palindrome\")\n",
    "    else:\n",
    "        print(f\"{word} is not a palindrome\")\n",
    "\n"
   ]
  },
  {
   "cell_type": "markdown",
   "id": "57f7de6c",
   "metadata": {},
   "source": [
    "Utilizando el inversor de listas que mostraba la consigna 4, comparo la palabra original con la inversa y si son iguales es un palindromo."
   ]
  },
  {
   "cell_type": "code",
   "execution_count": 23,
   "id": "8de8b58b",
   "metadata": {},
   "outputs": [
    {
     "name": "stdout",
     "output_type": "stream",
     "text": [
      "neuquen is a palindrome\n"
     ]
    }
   ],
   "source": [
    "check_palindrome()"
   ]
  },
  {
   "cell_type": "markdown",
   "id": "ed8b51be",
   "metadata": {},
   "source": [
    "### Actividad 8:\n",
    "\n",
    "Teniendo en cuenta el conjunto 1 y el conjunto 2, sin usar el operador de intersección &, calcular la intersección de dichos conjuntos."
   ]
  },
  {
   "cell_type": "code",
   "execution_count": 24,
   "id": "21a434b9",
   "metadata": {},
   "outputs": [
    {
     "name": "stdout",
     "output_type": "stream",
     "text": [
      "{3, 4}\n"
     ]
    }
   ],
   "source": [
    "conjunto1 = {1, 2, 3, 4}\n",
    "conjunto2 = {3, 4, 5, 6}\n",
    "# todo:\n",
    "interseccion = {elemento for elemento in conjunto1 if elemento in conjunto2}\n",
    "print(interseccion)"
   ]
  },
  {
   "cell_type": "markdown",
   "id": "2d551c82",
   "metadata": {},
   "source": [
    "Como iterando en una lista se itera sobre cada elemento en conjunto1 y para cada elemento se verifica si es que está en el conjunto2 y estos se incluyen en \"interseccion\""
   ]
  },
  {
   "cell_type": "markdown",
   "id": "31b460dc",
   "metadata": {},
   "source": [
    "### Actividad 9:\n",
    "Eliminar duplicados de una lista usando un set."
   ]
  },
  {
   "cell_type": "code",
   "execution_count": 21,
   "id": "0ef62008",
   "metadata": {},
   "outputs": [
    {
     "name": "stdout",
     "output_type": "stream",
     "text": [
      "[1, 2, 3, 4, 5]\n"
     ]
    }
   ],
   "source": [
    "\n",
    "# todo:\n",
    "lista = [1, 2, 2, 3, 4, 4, 5]\n",
    "lista = list(set(lista))\n",
    "print(lista)"
   ]
  },
  {
   "cell_type": "markdown",
   "id": "e97e86c7",
   "metadata": {},
   "source": [
    "La verdad sólo vi la descripción de set(), probé y funcionó así como así."
   ]
  },
  {
   "cell_type": "markdown",
   "id": "075f1f2c",
   "metadata": {},
   "source": [
    "### Actividad 10:\n",
    "\n",
    "Escribir un programa que cree 2 matrices y realice su multiplicacion."
   ]
  },
  {
   "cell_type": "code",
   "execution_count": null,
   "id": "4c1fd0e1",
   "metadata": {},
   "outputs": [],
   "source": [
    "\n",
    "# todo:"
   ]
  }
 ],
 "metadata": {
  "kernelspec": {
   "display_name": "Python 3",
   "language": "python",
   "name": "python3"
  },
  "language_info": {
   "codemirror_mode": {
    "name": "ipython",
    "version": 3
   },
   "file_extension": ".py",
   "mimetype": "text/x-python",
   "name": "python",
   "nbconvert_exporter": "python",
   "pygments_lexer": "ipython3",
   "version": "3.13.2"
  }
 },
 "nbformat": 4,
 "nbformat_minor": 5
}
